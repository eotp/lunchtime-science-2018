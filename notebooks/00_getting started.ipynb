{
 "cells": [
  {
   "cell_type": "markdown",
   "metadata": {},
   "source": [
    "# Getting started with Jupyter  Notebooks"
   ]
  },
  {
   "cell_type": "code",
   "execution_count": 1,
   "metadata": {},
   "outputs": [
    {
     "data": {
      "text/plain": [
       "4"
      ]
     },
     "execution_count": 1,
     "metadata": {},
     "output_type": "execute_result"
    }
   ],
   "source": [
    "2+2"
   ]
  },
  {
   "cell_type": "code",
   "execution_count": 2,
   "metadata": {},
   "outputs": [
    {
     "data": {
      "text/plain": [
       "35"
      ]
     },
     "execution_count": 2,
     "metadata": {},
     "output_type": "execute_result"
    }
   ],
   "source": [
    "var = 25\n",
    "var + 10"
   ]
  },
  {
   "cell_type": "markdown",
   "metadata": {},
   "source": [
    "## My chat bot\n",
    "\n",
    "* Ask for name   \n",
    "* Return greetings"
   ]
  },
  {
   "cell_type": "code",
   "execution_count": 3,
   "metadata": {},
   "outputs": [
    {
     "name": "stdout",
     "output_type": "stream",
     "text": [
      "Hi, my name is Vincent.\n",
      "What´s your name?\n",
      "Bernie\n",
      "Nice to meet you Bernie.\n"
     ]
    }
   ],
   "source": [
    "import time\n",
    "print(\"Hi, my name is Vincent.\")\n",
    "time.sleep(1)\n",
    "print(\"What´s your name?\")\n",
    "user = input()\n",
    "if user == \"Joachim\":\n",
    "    print(\"Good morning my creator!\")\n",
    "else:\n",
    "    print(\"Nice to meet you {}.\".format(user))\n",
    "time.sleep(1)"
   ]
  },
  {
   "cell_type": "markdown",
   "metadata": {},
   "source": [
    "## Markdown"
   ]
  },
  {
   "cell_type": "markdown",
   "metadata": {},
   "source": [
    "### The normal distribution\n",
    "\n",
    "The [__normal distribution__](https://en.wikipedia.org/wiki/Normal_distribution) is used extensively in probability theory, statistics, and the natural and social sciences. It is also called the Gaussian distribution because [Carl Friedrich Gauss](https://en.wikipedia.org/wiki/Carl_Friedrich_Gauss) (1777-1855) was one of the first to apply it for the analysis of astronomical data.\n",
    "\n",
    "The normal probability distribution or the normal curve is a bell-shaped (symmetric) curve. Its mean is denoted by $\\mu$ and its standard deviation by $\\sigma$. A continuous random variable $X$ that has a normal distribution is called a normal random variable.\n",
    "\n",
    "The notation for a normal distribution is $X \\sim (\\mu, \\sigma)$. The probability density function is written as\n",
    "\n",
    "$$f(x)=\\frac{1}{\\sigma  \\sqrt{2 \\pi}}e^{-\\frac{1}{2}\\left( \\frac{x-\\mu}{\\sigma} \\right)}$$\n",
    "\n",
    "\n",
    "where $e \\approx 2.71828$ and $pi \\approx 3.14159$. The probability density function $f(x)$ gives the vertical distance between the horizontal axis and the normal curve at point $x$.\n",
    "\n"
   ]
  },
  {
   "cell_type": "markdown",
   "metadata": {},
   "source": [
    "### Images\n",
    "\n",
    "![](_img/pull_out_another_tooth.png)\n",
    "\n",
    "\n",
    "Source: [Wiki commons](https://commons.wikimedia.org/wiki/Category:Teeth_in_art#/media/File:A_woman_reaches_down_into_a_man%27s_throat_to_pull_out_another_tooth_Wellcome_V0011763.jpg)"
   ]
  },
  {
   "cell_type": "markdown",
   "metadata": {},
   "source": [
    "### pdf-files"
   ]
  },
  {
   "cell_type": "code",
   "execution_count": 4,
   "metadata": {},
   "outputs": [
    {
     "data": {
      "text/html": [
       "\n",
       "        <iframe\n",
       "            width=\"100%\"\n",
       "            height=\"600\"\n",
       "            src=\"../slides/slides_krois_2018-04-18.pdf\"\n",
       "            frameborder=\"0\"\n",
       "            allowfullscreen\n",
       "        ></iframe>\n",
       "        "
      ],
      "text/plain": [
       "<IPython.lib.display.IFrame at 0x5254240>"
      ]
     },
     "execution_count": 4,
     "metadata": {},
     "output_type": "execute_result"
    }
   ],
   "source": [
    "from IPython.display import IFrame\n",
    "IFrame(\"../slides/slides_krois_2018-04-18.pdf\", width=\"100%\", height=600)"
   ]
  }
 ],
 "metadata": {
  "kernelspec": {
   "display_name": "Python 3",
   "language": "python",
   "name": "python3"
  },
  "language_info": {
   "codemirror_mode": {
    "name": "ipython",
    "version": 3
   },
   "file_extension": ".py",
   "mimetype": "text/x-python",
   "name": "python",
   "nbconvert_exporter": "python",
   "pygments_lexer": "ipython3",
   "version": "3.6.4"
  }
 },
 "nbformat": 4,
 "nbformat_minor": 2
}
